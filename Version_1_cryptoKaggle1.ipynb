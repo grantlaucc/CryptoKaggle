{
  "nbformat": 4,
  "nbformat_minor": 0,
  "metadata": {
    "colab": {
      "name": "Version 1 cryptoKaggle1.ipynb",
      "provenance": []
    },
    "kernelspec": {
      "name": "python3",
      "display_name": "Python 3"
    },
    "language_info": {
      "name": "python"
    },
    "accelerator": "GPU"
  },
  "cells": [
    {
      "cell_type": "code",
      "source": [
        "! pip install -q kaggle"
      ],
      "metadata": {
        "id": "pm4QLTaqNjoE"
      },
      "execution_count": null,
      "outputs": []
    },
    {
      "cell_type": "code",
      "source": [
        "from google.colab import files\n",
        "files.upload() #get kaggle API token and upload kaggle.JSON. https://www.kaggle.com/general/51898"
      ],
      "metadata": {
        "colab": {
          "resources": {
            "http://localhost:8080/nbextensions/google.colab/files.js": {
              "data": "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",
              "ok": true,
              "headers": [
                [
                  "content-type",
                  "application/javascript"
                ]
              ],
              "status": 200,
              "status_text": ""
            }
          },
          "base_uri": "https://localhost:8080/",
          "height": 55
        },
        "id": "coDzPHncNrXn",
        "outputId": "21ae9f15-7cb2-4376-be2e-96049ee90c8b"
      },
      "execution_count": null,
      "outputs": [
        {
          "output_type": "display_data",
          "data": {
            "text/html": [
              "\n",
              "     <input type=\"file\" id=\"files-4ca70834-ea2f-4dab-ac04-58137021a78c\" name=\"files[]\" multiple disabled\n",
              "        style=\"border:none\" />\n",
              "     <output id=\"result-4ca70834-ea2f-4dab-ac04-58137021a78c\">\n",
              "      Upload widget is only available when the cell has been executed in the\n",
              "      current browser session. Please rerun this cell to enable.\n",
              "      </output>\n",
              "      <script src=\"/nbextensions/google.colab/files.js\"></script> "
            ],
            "text/plain": [
              "<IPython.core.display.HTML object>"
            ]
          },
          "metadata": {}
        },
        {
          "output_type": "execute_result",
          "data": {
            "text/plain": [
              "{}"
            ]
          },
          "metadata": {},
          "execution_count": 46
        }
      ]
    },
    {
      "cell_type": "code",
      "source": [
        "! mkdir ~/.kaggle\n",
        "! cp kaggle.json ~/.kaggle/\n",
        "! chmod 600 ~/.kaggle/kaggle.json\n",
        "! kaggle datasets list"
      ],
      "metadata": {
        "colab": {
          "base_uri": "https://localhost:8080/"
        },
        "id": "taa2bdC4N1NF",
        "outputId": "b9c991c6-5a4c-408f-e464-e8123b09a196"
      },
      "execution_count": null,
      "outputs": [
        {
          "output_type": "stream",
          "name": "stdout",
          "text": [
            "Warning: Looks like you're using an outdated API Version, please consider updating (server 1.5.12 / client 1.5.4)\n",
            "ref                                                         title                                              size  lastUpdated          downloadCount  \n",
            "----------------------------------------------------------  ------------------------------------------------  -----  -------------------  -------------  \n",
            "gpreda/reddit-vaccine-myths                                 Reddit Vaccine Myths                              237KB  2021-12-12 11:59:54          18327  \n",
            "crowww/a-large-scale-fish-dataset                           A Large Scale Fish Dataset                          3GB  2021-04-28 17:03:01          10998  \n",
            "imsparsh/musicnet-dataset                                   MusicNet Dataset                                   22GB  2021-02-18 14:12:19           5599  \n",
            "dhruvildave/wikibooks-dataset                               Wikibooks Dataset                                   2GB  2021-10-22 10:48:21           3909  \n",
            "nickuzmenkov/nih-chest-xrays-tfrecords                      NIH Chest X-rays TFRecords                         11GB  2021-03-09 04:49:23           1935  \n",
            "promptcloud/careerbuilder-job-listing-2020                  Careerbuilder Job Listing 2020                     42MB  2021-03-05 06:59:52           3066  \n",
            "fatiimaezzahra/famous-iconic-women                          Famous Iconic Women                               838MB  2021-02-28 14:56:00           2158  \n",
            "mathurinache/twitter-edge-nodes                             Twitter Edge Nodes                                342MB  2021-03-08 06:43:04           1465  \n",
            "coloradokb/dandelionimages                                  DandelionImages                                     4GB  2021-02-19 20:03:47           1132  \n",
            "simiotic/github-code-snippets                               GitHub Code Snippets                                7GB  2021-03-03 11:34:39            567  \n",
            "mathurinache/the-lj-speech-dataset                          The LJ Speech Dataset                               3GB  2021-02-15 09:19:54            581  \n",
            "alsgroup/end-als                                            End ALS Kaggle Challenge                           12GB  2021-04-08 12:16:37           1194  \n",
            "nickuzmenkov/ranzcr-clip-kfold-tfrecords                    RANZCR CLiP KFold TFRecords                         2GB  2021-02-21 13:29:51            174  \n",
            "landrykezebou/lvzhdr-tone-mapping-benchmark-dataset-tmonet  LVZ-HDR Tone Mapping Benchmark Dataset (TMO-Net)   24GB  2021-03-01 05:03:40            274  \n",
            "imsparsh/accentdb-core-extended                             AccentDB - Core & Extended                          6GB  2021-02-17 14:22:54            208  \n",
            "stuartjames/lights                                          LightS: Light Specularity Dataset                  18GB  2021-02-18 14:32:26            260  \n",
            "datasnaek/youtube-new                                       Trending YouTube Video Statistics                 201MB  2019-06-03 00:56:47         162480  \n",
            "zynicide/wine-reviews                                       Wine Reviews                                       51MB  2017-11-27 17:08:04         151859  \n",
            "residentmario/ramen-ratings                                 Ramen Ratings                                      40KB  2018-01-11 16:04:39          31521  \n",
            "datasnaek/chess                                             Chess Game Dataset (Lichess)                        3MB  2017-09-04 03:09:09          26664  \n"
          ]
        }
      ]
    },
    {
      "cell_type": "code",
      "source": [
        "! kaggle competitions download -c 'g-research-crypto-forecasting'"
      ],
      "metadata": {
        "colab": {
          "base_uri": "https://localhost:8080/"
        },
        "id": "7FOxKn_QOAFf",
        "outputId": "35b0c97f-e3de-45dd-c89f-f5705071ced6"
      },
      "execution_count": null,
      "outputs": [
        {
          "output_type": "stream",
          "name": "stdout",
          "text": [
            "Warning: Looks like you're using an outdated API Version, please consider updating (server 1.5.12 / client 1.5.4)\n",
            "Downloading __init__.py to /content\n",
            "  0% 0.00/59.0 [00:00<?, ?B/s]\n",
            "100% 59.0/59.0 [00:00<00:00, 133kB/s]\n",
            "Downloading competition.cpython-37m-x86_64-linux-gnu.so to /content\n",
            "100% 660k/660k [00:00<00:00, 4.56MB/s]\n",
            "\n",
            "Downloading train.csv.zip to /content\n",
            "100% 1.02G/1.02G [00:18<00:00, 54.8MB/s]\n",
            "100% 1.02G/1.02G [00:18<00:00, 58.2MB/s]\n",
            "Downloading asset_details.csv to /content\n",
            "  0% 0.00/444 [00:00<?, ?B/s]\n",
            "100% 444/444 [00:00<00:00, 434kB/s]\n",
            "Downloading example_sample_submission.csv to /content\n",
            "  0% 0.00/406 [00:00<?, ?B/s]\n",
            "100% 406/406 [00:00<00:00, 403kB/s]\n",
            "Downloading example_test.csv to /content\n",
            "  0% 0.00/5.78k [00:00<?, ?B/s]\n",
            "100% 5.78k/5.78k [00:00<00:00, 5.41MB/s]\n",
            "Downloading supplemental_train.csv.zip to /content\n",
            " 99% 93.0M/94.2M [00:03<00:00, 27.6MB/s]\n",
            "100% 94.2M/94.2M [00:03<00:00, 26.2MB/s]\n"
          ]
        }
      ]
    },
    {
      "cell_type": "code",
      "source": [
        "!unzip \\*.zip  && rm *.zip"
      ],
      "metadata": {
        "colab": {
          "base_uri": "https://localhost:8080/"
        },
        "id": "aRbMppu6PMEy",
        "outputId": "358a447e-d7bd-4c2c-f3f3-d0af6dd5404a"
      },
      "execution_count": null,
      "outputs": [
        {
          "output_type": "stream",
          "name": "stdout",
          "text": [
            "Archive:  supplemental_train.csv.zip\n",
            "  inflating: supplemental_train.csv  \n",
            "\n",
            "Archive:  train.csv.zip\n",
            "  inflating: train.csv               \n",
            "\n",
            "2 archives were successfully processed.\n"
          ]
        }
      ]
    },
    {
      "cell_type": "code",
      "execution_count": null,
      "metadata": {
        "id": "54rDEm8TMc-j"
      },
      "outputs": [],
      "source": [
        "import pandas as pd\n",
        "import numpy as np\n",
        "from datetime import datetime"
      ]
    },
    {
      "cell_type": "code",
      "source": [
        "df=pd.read_csv('/content/train.csv')"
      ],
      "metadata": {
        "id": "_Lt1vaaoMqFA"
      },
      "execution_count": null,
      "outputs": []
    },
    {
      "cell_type": "code",
      "source": [
        "overallfirstTS = df.iloc[0].timestamp\n",
        "overalllastTS = df.iloc[-1].timestamp\n",
        "overallRangeTS = overalllastTS - overallfirstTS\n",
        "for i in range(0,14):\n",
        "  testdf = df.loc[df['Asset_ID'] == i]\n",
        "  firstTS = testdf.iloc[0].timestamp\n",
        "  lastTS = testdf.iloc[-1].timestamp\n",
        "  start = (firstTS-overallfirstTS)/overallRangeTS\n",
        "  finish = (lastTS-overallfirstTS)/overallRangeTS\n",
        "  print(len(testdf),start,finish)"
      ],
      "metadata": {
        "colab": {
          "base_uri": "https://localhost:8080/"
        },
        "id": "rEqYR6nIF9Jy",
        "outputId": "c8cb6930-770a-4f05-dcea-caa35d22083e"
      },
      "execution_count": null,
      "outputs": [
        {
          "output_type": "stream",
          "name": "stdout",
          "text": [
            "1942619 0.0 1.0\n",
            "1956282 0.0 1.0\n",
            "1953537 0.0 1.0\n",
            "1791867 0.07827961648659987 1.0\n",
            "1156866 0.34334546610327554 1.0\n",
            "1955140 0.0 1.0\n",
            "1956200 0.0 1.0\n",
            "1951127 0.0 1.0\n",
            "1592071 0.094435294760902 1.0\n",
            "1956030 0.0 1.0\n",
            "670497 0.09539290296832995 1.0\n",
            "1701261 0.0 1.0\n",
            "1778749 0.034580182824474094 1.0\n",
            "1874560 0.02715233175554521 1.0\n"
          ]
        }
      ]
    },
    {
      "cell_type": "code",
      "source": [
        "def createSubset(start, end, dataFrame):\n",
        "  startIndex = int(start*len(dataFrame))\n",
        "  endIndex = int(end*len(dataFrame))\n",
        "  return dataFrame[startIndex:endIndex]"
      ],
      "metadata": {
        "id": "XVwz0_Wk4EQ0"
      },
      "execution_count": null,
      "outputs": []
    },
    {
      "cell_type": "code",
      "source": [
        "def fillNaN(dataFrame):\n",
        "  currencyDFs = []\n",
        "  for Asset_ID in dataFrame.Asset_ID.unique():\n",
        "    singleCurrencyDF = dataFrame.loc[dataFrame['Asset_ID'] == Asset_ID]\n",
        "    singleCurrencyDF = singleCurrencyDF.ffill().bfill()\n",
        "    currencyDFs.append(singleCurrencyDF)\n",
        "  return pd.concat(currencyDFs).sort_index()"
      ],
      "metadata": {
        "id": "oBoabCI8Lm5V"
      },
      "execution_count": null,
      "outputs": []
    },
    {
      "cell_type": "code",
      "source": [
        "def removeFirstLast(dataFrame): #removes potentially incomplete rows associated with first and last timestamp\n",
        "  timestamps = dataFrame.timestamp.unique()\n",
        "  dataFrame = dataFrame.loc[dataFrame['timestamp'] > timestamps[0]]\n",
        "  dataFrame = dataFrame.loc[dataFrame['timestamp'] < timestamps[-1]]\n",
        "  return dataFrame"
      ],
      "metadata": {
        "id": "2pPl3DICtdqs"
      },
      "execution_count": null,
      "outputs": []
    },
    {
      "cell_type": "code",
      "source": [
        "def createVWAPArray(dataFrame, currencies = 14):\n",
        "  firstTimestamp = dataFrame['timestamp'].iloc[0]\n",
        "  lastTimestamp = dataFrame['timestamp'].iloc[-1]\n",
        "  singleCurrencyVWAPSet = []\n",
        "  for i in range(currencies):\n",
        "    print(\"currency_index\",i)\n",
        "    singleCurrencyVWAP = []\n",
        "    singleCurrencyDF = dataFrame.loc[dataFrame['Asset_ID'] == i]\n",
        "    singleCurrencyFirstTimestamp = singleCurrencyDF['timestamp'].iloc[0]\n",
        "    singleCurrencyFirstVWAP = singleCurrencyDF['VWAP'].iloc[0]\n",
        "    \n",
        "    for timestamp in range(firstTimestamp,lastTimestamp+1,60):\n",
        "      if timestamp < singleCurrencyFirstTimestamp:\n",
        "        singleCurrencyVWAP.append(singleCurrencyFirstVWAP)\n",
        "      else:\n",
        "        timestampVWAP = singleCurrencyDF.loc[singleCurrencyDF['timestamp']==timestamp]['VWAP']\n",
        "        if timestampVWAP.empty:\n",
        "          singleCurrencyVWAP.append(singleCurrencyVWAP[-1])\n",
        "        else:\n",
        "          singleCurrencyVWAP.append(timestampVWAP)\n",
        "    singleCurrencyVWAPSet.append(np.array(singleCurrencyVWAP))\n",
        "  VWAPArray = np.column_stack(singleCurrencyVWAPSet)\n",
        "  return VWAPArray"
      ],
      "metadata": {
        "id": "K2T7C9L7y353"
      },
      "execution_count": null,
      "outputs": []
    },
    {
      "cell_type": "code",
      "source": [
        "df3 = createSubset(0.5,0.53,df) #Creating smaller dataset arbitrarily from 50% point to 53% point "
      ],
      "metadata": {
        "id": "k3BR8ooFKuMP"
      },
      "execution_count": null,
      "outputs": []
    },
    {
      "cell_type": "code",
      "source": [
        "df3 = fillNaN(df3) #removing NaN values"
      ],
      "metadata": {
        "colab": {
          "base_uri": "https://localhost:8080/",
          "height": 184
        },
        "id": "49rmd41WWnHO",
        "outputId": "9df0efa1-f89a-4ad7-d0e6-ff9f5c6b287e"
      },
      "execution_count": null,
      "outputs": [
        {
          "output_type": "error",
          "ename": "NameError",
          "evalue": "ignored",
          "traceback": [
            "\u001b[0;31m---------------------------------------------------------------------------\u001b[0m",
            "\u001b[0;31mNameError\u001b[0m                                 Traceback (most recent call last)",
            "\u001b[0;32m<ipython-input-2-8b0c0109e192>\u001b[0m in \u001b[0;36m<module>\u001b[0;34m()\u001b[0m\n\u001b[0;32m----> 1\u001b[0;31m \u001b[0mdf3\u001b[0m \u001b[0;34m=\u001b[0m \u001b[0mfillNaN\u001b[0m\u001b[0;34m(\u001b[0m\u001b[0mdf3\u001b[0m\u001b[0;34m)\u001b[0m\u001b[0;34m\u001b[0m\u001b[0;34m\u001b[0m\u001b[0m\n\u001b[0m\u001b[1;32m      2\u001b[0m \u001b[0mdf3\u001b[0m\u001b[0;34m.\u001b[0m\u001b[0mtimestamp\u001b[0m\u001b[0;34m[\u001b[0m\u001b[0;36m0\u001b[0m\u001b[0;34m]\u001b[0m\u001b[0;34m\u001b[0m\u001b[0;34m\u001b[0m\u001b[0m\n",
            "\u001b[0;31mNameError\u001b[0m: name 'fillNaN' is not defined"
          ]
        }
      ]
    },
    {
      "cell_type": "code",
      "source": [
        "df3 = removeFirstLast(df3) #removing partially incomplete data at first and last timesteps"
      ],
      "metadata": {
        "id": "HY6eTj-fvowR"
      },
      "execution_count": null,
      "outputs": []
    },
    {
      "cell_type": "code",
      "source": [
        "df3.to_pickle(\"df3.pkl\")"
      ],
      "metadata": {
        "id": "PXljyEDrYTmj"
      },
      "execution_count": null,
      "outputs": []
    },
    {
      "cell_type": "code",
      "source": [
        "df3 = pd.read_pickle(\"df3.pkl\")"
      ],
      "metadata": {
        "colab": {
          "base_uri": "https://localhost:8080/",
          "height": 488
        },
        "id": "6pQUG59Daqyr",
        "outputId": "83f1c377-c4ca-491b-b8ce-9f85b01246ae"
      },
      "execution_count": null,
      "outputs": [
        {
          "output_type": "execute_result",
          "data": {
            "text/html": [
              "\n",
              "  <div id=\"df-a396a59a-abca-481b-83ee-cfc0a8ae7b3a\">\n",
              "    <div class=\"colab-df-container\">\n",
              "      <div>\n",
              "<style scoped>\n",
              "    .dataframe tbody tr th:only-of-type {\n",
              "        vertical-align: middle;\n",
              "    }\n",
              "\n",
              "    .dataframe tbody tr th {\n",
              "        vertical-align: top;\n",
              "    }\n",
              "\n",
              "    .dataframe thead th {\n",
              "        text-align: right;\n",
              "    }\n",
              "</style>\n",
              "<table border=\"1\" class=\"dataframe\">\n",
              "  <thead>\n",
              "    <tr style=\"text-align: right;\">\n",
              "      <th></th>\n",
              "      <th>timestamp</th>\n",
              "      <th>Asset_ID</th>\n",
              "      <th>Count</th>\n",
              "      <th>Open</th>\n",
              "      <th>High</th>\n",
              "      <th>Low</th>\n",
              "      <th>Close</th>\n",
              "      <th>Volume</th>\n",
              "      <th>VWAP</th>\n",
              "      <th>Target</th>\n",
              "    </tr>\n",
              "  </thead>\n",
              "  <tbody>\n",
              "    <tr>\n",
              "      <th>12118405</th>\n",
              "      <td>1578371940</td>\n",
              "      <td>3</td>\n",
              "      <td>38.0</td>\n",
              "      <td>0.037255</td>\n",
              "      <td>0.037285</td>\n",
              "      <td>0.037199</td>\n",
              "      <td>0.037210</td>\n",
              "      <td>130363.902898</td>\n",
              "      <td>0.037235</td>\n",
              "      <td>0.000182</td>\n",
              "    </tr>\n",
              "    <tr>\n",
              "      <th>12118406</th>\n",
              "      <td>1578371940</td>\n",
              "      <td>2</td>\n",
              "      <td>152.0</td>\n",
              "      <td>240.746667</td>\n",
              "      <td>240.900000</td>\n",
              "      <td>240.390000</td>\n",
              "      <td>240.588333</td>\n",
              "      <td>326.758028</td>\n",
              "      <td>240.671361</td>\n",
              "      <td>0.002916</td>\n",
              "    </tr>\n",
              "    <tr>\n",
              "      <th>12118407</th>\n",
              "      <td>1578371940</td>\n",
              "      <td>0</td>\n",
              "      <td>36.0</td>\n",
              "      <td>14.798700</td>\n",
              "      <td>14.817600</td>\n",
              "      <td>14.798700</td>\n",
              "      <td>14.810300</td>\n",
              "      <td>1113.510000</td>\n",
              "      <td>14.803975</td>\n",
              "      <td>-0.004416</td>\n",
              "    </tr>\n",
              "    <tr>\n",
              "      <th>12118408</th>\n",
              "      <td>1578371940</td>\n",
              "      <td>1</td>\n",
              "      <td>623.0</td>\n",
              "      <td>7865.482857</td>\n",
              "      <td>7873.990000</td>\n",
              "      <td>7855.900000</td>\n",
              "      <td>7863.590232</td>\n",
              "      <td>122.305297</td>\n",
              "      <td>7864.273296</td>\n",
              "      <td>-0.001082</td>\n",
              "    </tr>\n",
              "    <tr>\n",
              "      <th>12118409</th>\n",
              "      <td>1578371940</td>\n",
              "      <td>4</td>\n",
              "      <td>6.0</td>\n",
              "      <td>0.002148</td>\n",
              "      <td>0.002151</td>\n",
              "      <td>0.002146</td>\n",
              "      <td>0.002148</td>\n",
              "      <td>71992.650000</td>\n",
              "      <td>0.002149</td>\n",
              "      <td>-0.002282</td>\n",
              "    </tr>\n",
              "    <tr>\n",
              "      <th>...</th>\n",
              "      <td>...</td>\n",
              "      <td>...</td>\n",
              "      <td>...</td>\n",
              "      <td>...</td>\n",
              "      <td>...</td>\n",
              "      <td>...</td>\n",
              "      <td>...</td>\n",
              "      <td>...</td>\n",
              "      <td>...</td>\n",
              "      <td>...</td>\n",
              "    </tr>\n",
              "    <tr>\n",
              "      <th>12845495</th>\n",
              "      <td>1581798180</td>\n",
              "      <td>8</td>\n",
              "      <td>63.0</td>\n",
              "      <td>0.292400</td>\n",
              "      <td>0.297600</td>\n",
              "      <td>0.290500</td>\n",
              "      <td>0.293300</td>\n",
              "      <td>18758.509800</td>\n",
              "      <td>0.293609</td>\n",
              "      <td>-0.001023</td>\n",
              "    </tr>\n",
              "    <tr>\n",
              "      <th>12845496</th>\n",
              "      <td>1581798180</td>\n",
              "      <td>9</td>\n",
              "      <td>123.0</td>\n",
              "      <td>76.620400</td>\n",
              "      <td>76.790000</td>\n",
              "      <td>76.585000</td>\n",
              "      <td>76.672000</td>\n",
              "      <td>502.574597</td>\n",
              "      <td>76.665520</td>\n",
              "      <td>-0.000269</td>\n",
              "    </tr>\n",
              "    <tr>\n",
              "      <th>12845497</th>\n",
              "      <td>1581798180</td>\n",
              "      <td>13</td>\n",
              "      <td>165.0</td>\n",
              "      <td>0.023621</td>\n",
              "      <td>0.023655</td>\n",
              "      <td>0.023603</td>\n",
              "      <td>0.023642</td>\n",
              "      <td>603668.575700</td>\n",
              "      <td>0.023627</td>\n",
              "      <td>0.004132</td>\n",
              "    </tr>\n",
              "    <tr>\n",
              "      <th>12845498</th>\n",
              "      <td>1581798180</td>\n",
              "      <td>12</td>\n",
              "      <td>92.0</td>\n",
              "      <td>0.079266</td>\n",
              "      <td>0.079450</td>\n",
              "      <td>0.079214</td>\n",
              "      <td>0.079311</td>\n",
              "      <td>191279.989951</td>\n",
              "      <td>0.079308</td>\n",
              "      <td>0.000834</td>\n",
              "    </tr>\n",
              "    <tr>\n",
              "      <th>12845499</th>\n",
              "      <td>1581798180</td>\n",
              "      <td>11</td>\n",
              "      <td>56.0</td>\n",
              "      <td>88.952333</td>\n",
              "      <td>89.340000</td>\n",
              "      <td>88.906000</td>\n",
              "      <td>89.075667</td>\n",
              "      <td>143.573512</td>\n",
              "      <td>89.055691</td>\n",
              "      <td>-0.001203</td>\n",
              "    </tr>\n",
              "  </tbody>\n",
              "</table>\n",
              "<p>727095 rows × 10 columns</p>\n",
              "</div>\n",
              "      <button class=\"colab-df-convert\" onclick=\"convertToInteractive('df-a396a59a-abca-481b-83ee-cfc0a8ae7b3a')\"\n",
              "              title=\"Convert this dataframe to an interactive table.\"\n",
              "              style=\"display:none;\">\n",
              "        \n",
              "  <svg xmlns=\"http://www.w3.org/2000/svg\" height=\"24px\"viewBox=\"0 0 24 24\"\n",
              "       width=\"24px\">\n",
              "    <path d=\"M0 0h24v24H0V0z\" fill=\"none\"/>\n",
              "    <path d=\"M18.56 5.44l.94 2.06.94-2.06 2.06-.94-2.06-.94-.94-2.06-.94 2.06-2.06.94zm-11 1L8.5 8.5l.94-2.06 2.06-.94-2.06-.94L8.5 2.5l-.94 2.06-2.06.94zm10 10l.94 2.06.94-2.06 2.06-.94-2.06-.94-.94-2.06-.94 2.06-2.06.94z\"/><path d=\"M17.41 7.96l-1.37-1.37c-.4-.4-.92-.59-1.43-.59-.52 0-1.04.2-1.43.59L10.3 9.45l-7.72 7.72c-.78.78-.78 2.05 0 2.83L4 21.41c.39.39.9.59 1.41.59.51 0 1.02-.2 1.41-.59l7.78-7.78 2.81-2.81c.8-.78.8-2.07 0-2.86zM5.41 20L4 18.59l7.72-7.72 1.47 1.35L5.41 20z\"/>\n",
              "  </svg>\n",
              "      </button>\n",
              "      \n",
              "  <style>\n",
              "    .colab-df-container {\n",
              "      display:flex;\n",
              "      flex-wrap:wrap;\n",
              "      gap: 12px;\n",
              "    }\n",
              "\n",
              "    .colab-df-convert {\n",
              "      background-color: #E8F0FE;\n",
              "      border: none;\n",
              "      border-radius: 50%;\n",
              "      cursor: pointer;\n",
              "      display: none;\n",
              "      fill: #1967D2;\n",
              "      height: 32px;\n",
              "      padding: 0 0 0 0;\n",
              "      width: 32px;\n",
              "    }\n",
              "\n",
              "    .colab-df-convert:hover {\n",
              "      background-color: #E2EBFA;\n",
              "      box-shadow: 0px 1px 2px rgba(60, 64, 67, 0.3), 0px 1px 3px 1px rgba(60, 64, 67, 0.15);\n",
              "      fill: #174EA6;\n",
              "    }\n",
              "\n",
              "    [theme=dark] .colab-df-convert {\n",
              "      background-color: #3B4455;\n",
              "      fill: #D2E3FC;\n",
              "    }\n",
              "\n",
              "    [theme=dark] .colab-df-convert:hover {\n",
              "      background-color: #434B5C;\n",
              "      box-shadow: 0px 1px 3px 1px rgba(0, 0, 0, 0.15);\n",
              "      filter: drop-shadow(0px 1px 2px rgba(0, 0, 0, 0.3));\n",
              "      fill: #FFFFFF;\n",
              "    }\n",
              "  </style>\n",
              "\n",
              "      <script>\n",
              "        const buttonEl =\n",
              "          document.querySelector('#df-a396a59a-abca-481b-83ee-cfc0a8ae7b3a button.colab-df-convert');\n",
              "        buttonEl.style.display =\n",
              "          google.colab.kernel.accessAllowed ? 'block' : 'none';\n",
              "\n",
              "        async function convertToInteractive(key) {\n",
              "          const element = document.querySelector('#df-a396a59a-abca-481b-83ee-cfc0a8ae7b3a');\n",
              "          const dataTable =\n",
              "            await google.colab.kernel.invokeFunction('convertToInteractive',\n",
              "                                                     [key], {});\n",
              "          if (!dataTable) return;\n",
              "\n",
              "          const docLinkHtml = 'Like what you see? Visit the ' +\n",
              "            '<a target=\"_blank\" href=https://colab.research.google.com/notebooks/data_table.ipynb>data table notebook</a>'\n",
              "            + ' to learn more about interactive tables.';\n",
              "          element.innerHTML = '';\n",
              "          dataTable['output_type'] = 'display_data';\n",
              "          await google.colab.output.renderOutput(dataTable, element);\n",
              "          const docLink = document.createElement('div');\n",
              "          docLink.innerHTML = docLinkHtml;\n",
              "          element.appendChild(docLink);\n",
              "        }\n",
              "      </script>\n",
              "    </div>\n",
              "  </div>\n",
              "  "
            ],
            "text/plain": [
              "           timestamp  Asset_ID  Count  ...         Volume         VWAP    Target\n",
              "12118405  1578371940         3   38.0  ...  130363.902898     0.037235  0.000182\n",
              "12118406  1578371940         2  152.0  ...     326.758028   240.671361  0.002916\n",
              "12118407  1578371940         0   36.0  ...    1113.510000    14.803975 -0.004416\n",
              "12118408  1578371940         1  623.0  ...     122.305297  7864.273296 -0.001082\n",
              "12118409  1578371940         4    6.0  ...   71992.650000     0.002149 -0.002282\n",
              "...              ...       ...    ...  ...            ...          ...       ...\n",
              "12845495  1581798180         8   63.0  ...   18758.509800     0.293609 -0.001023\n",
              "12845496  1581798180         9  123.0  ...     502.574597    76.665520 -0.000269\n",
              "12845497  1581798180        13  165.0  ...  603668.575700     0.023627  0.004132\n",
              "12845498  1581798180        12   92.0  ...  191279.989951     0.079308  0.000834\n",
              "12845499  1581798180        11   56.0  ...     143.573512    89.055691 -0.001203\n",
              "\n",
              "[727095 rows x 10 columns]"
            ]
          },
          "metadata": {},
          "execution_count": 5
        }
      ]
    },
    {
      "cell_type": "code",
      "source": [
        "df3_VWAP_Array = createVWAPArray(df3) #creating numpy array of size (timestamps,currency indices)"
      ],
      "metadata": {
        "colab": {
          "base_uri": "https://localhost:8080/"
        },
        "id": "sLlshwpwUz4U",
        "outputId": "17174600-7e29-4ea6-ed7e-61087a2d4a0c"
      },
      "execution_count": null,
      "outputs": [
        {
          "output_type": "stream",
          "name": "stdout",
          "text": [
            "currency_index 0\n",
            "currency_index 1\n",
            "currency_index 2\n",
            "currency_index 3\n",
            "currency_index 4\n",
            "currency_index 5\n",
            "currency_index 6\n",
            "currency_index 7\n",
            "currency_index 8\n",
            "currency_index 9\n",
            "currency_index 10\n"
          ]
        },
        {
          "output_type": "stream",
          "name": "stderr",
          "text": [
            "/usr/local/lib/python3.7/dist-packages/ipykernel_launcher.py:21: VisibleDeprecationWarning: Creating an ndarray from ragged nested sequences (which is a list-or-tuple of lists-or-tuples-or ndarrays with different lengths or shapes) is deprecated. If you meant to do this, you must specify 'dtype=object' when creating the ndarray\n"
          ]
        },
        {
          "output_type": "stream",
          "name": "stdout",
          "text": [
            "currency_index 11\n",
            "currency_index 12\n",
            "currency_index 13\n"
          ]
        }
      ]
    },
    {
      "cell_type": "code",
      "source": [
        "np.save('df3_VWAP_Array.npy', df3_VWAP_Array)"
      ],
      "metadata": {
        "id": "cMJ75q2FaCxx"
      },
      "execution_count": null,
      "outputs": []
    },
    {
      "cell_type": "code",
      "source": [
        "df3_VWAP_Array = np.load('df3_VWAP_Array.npy', allow_pickle=True)"
      ],
      "metadata": {
        "id": "cD9Cms_ilZYo"
      },
      "execution_count": null,
      "outputs": []
    },
    {
      "cell_type": "code",
      "source": [
        "df3_VWAP_Array"
      ],
      "metadata": {
        "colab": {
          "base_uri": "https://localhost:8080/",
          "height": 166
        },
        "id": "-sHwUmP7l19n",
        "outputId": "9a996ebc-054d-4c04-9cdd-29ad8cbd5912"
      },
      "execution_count": null,
      "outputs": [
        {
          "output_type": "error",
          "ename": "NameError",
          "evalue": "ignored",
          "traceback": [
            "\u001b[0;31m---------------------------------------------------------------------------\u001b[0m",
            "\u001b[0;31mNameError\u001b[0m                                 Traceback (most recent call last)",
            "\u001b[0;32m<ipython-input-2-7b16349acae1>\u001b[0m in \u001b[0;36m<module>\u001b[0;34m()\u001b[0m\n\u001b[0;32m----> 1\u001b[0;31m \u001b[0mdf3_VWAP_Array\u001b[0m\u001b[0;34m\u001b[0m\u001b[0;34m\u001b[0m\u001b[0m\n\u001b[0m",
            "\u001b[0;31mNameError\u001b[0m: name 'df3_VWAP_Array' is not defined"
          ]
        }
      ]
    },
    {
      "cell_type": "code",
      "source": [
        "from sklearn.preprocessing import MinMaxScaler\n",
        "scaler=MinMaxScaler(feature_range=(0,1))\n",
        "df3_VWAP_Array_Normalized = scaler.fit_transform(df3_VWAP_Array) #Normalizing"
      ],
      "metadata": {
        "id": "stJWnqWWO_bg"
      },
      "execution_count": null,
      "outputs": []
    },
    {
      "cell_type": "code",
      "source": [
        "#Creating 65-35 train/test split\n",
        "training_size_finish=int(len(df3_VWAP_Array_Normalized)*0.65)\n",
        "train_data,test_data=df3_VWAP_Array_Normalized[0:training_size_finish,:],df3_VWAP_Array_Normalized[training_size_finish:,:]"
      ],
      "metadata": {
        "id": "r_Sq4qFQvIFd"
      },
      "execution_count": null,
      "outputs": []
    },
    {
      "cell_type": "code",
      "source": [
        "#creating train/test datasets. Previous is the number of timesteps in each input. Advance is the number of timesteps ahead to predict\n",
        "def create_dataset2(dataset, previous, advance):\n",
        "    dataX, dataY = [], []\n",
        "    for i in range(len(dataset)-previous-advance+1):\n",
        "        a = dataset[i:(i+previous), ]\n",
        "        dataX.append(a)\n",
        "        dataY.append(dataset[i + previous + advance - 1, ])\n",
        "    return np.array(dataX), np.array(dataY)\n",
        "previous = 100\n",
        "advance = 15\n",
        "X_train, y_train = create_dataset2(train_data, previous, advance)\n",
        "X_test, ytest = create_dataset2(test_data, previous, advance)"
      ],
      "metadata": {
        "id": "COkkHua9xHQa"
      },
      "execution_count": null,
      "outputs": []
    },
    {
      "cell_type": "code",
      "source": [
        "X_train.shape"
      ],
      "metadata": {
        "colab": {
          "base_uri": "https://localhost:8080/"
        },
        "id": "EhzVCmj9zS1X",
        "outputId": "24ba2b93-6bf3-4f31-eab4-edbe293889ef"
      },
      "execution_count": null,
      "outputs": [
        {
          "output_type": "execute_result",
          "data": {
            "text/plain": [
              "(37004, 100, 14)"
            ]
          },
          "metadata": {},
          "execution_count": 9
        }
      ]
    },
    {
      "cell_type": "code",
      "source": [
        "from tensorflow.keras.models import Sequential\n",
        "from tensorflow.keras.layers import Dense\n",
        "from tensorflow.keras.layers import LSTM\n",
        "from tensorflow.keras.callbacks import ModelCheckpoint"
      ],
      "metadata": {
        "id": "SmikGZn_Fusw"
      },
      "execution_count": null,
      "outputs": []
    },
    {
      "cell_type": "code",
      "source": [
        "model=Sequential()\n",
        "model.add(LSTM(50,return_sequences=True,input_shape=(100,14)))\n",
        "model.add(LSTM(50,return_sequences=True))\n",
        "model.add(LSTM(50))\n",
        "model.add(Dense(14))\n",
        "model.compile(loss='mean_squared_error',optimizer='adam')"
      ],
      "metadata": {
        "id": "NDuZTQTJFxBP"
      },
      "execution_count": null,
      "outputs": []
    },
    {
      "cell_type": "code",
      "source": [
        "model.summary()"
      ],
      "metadata": {
        "colab": {
          "base_uri": "https://localhost:8080/"
        },
        "id": "fNWoXuUbIMnR",
        "outputId": "1e256f06-15cb-4994-b78f-1c5b4c13a9e6"
      },
      "execution_count": null,
      "outputs": [
        {
          "output_type": "stream",
          "name": "stdout",
          "text": [
            "Model: \"sequential\"\n",
            "_________________________________________________________________\n",
            " Layer (type)                Output Shape              Param #   \n",
            "=================================================================\n",
            " lstm (LSTM)                 (None, 100, 50)           13000     \n",
            "                                                                 \n",
            " lstm_1 (LSTM)               (None, 100, 50)           20200     \n",
            "                                                                 \n",
            " lstm_2 (LSTM)               (None, 50)                20200     \n",
            "                                                                 \n",
            " dense (Dense)               (None, 14)                714       \n",
            "                                                                 \n",
            "=================================================================\n",
            "Total params: 54,114\n",
            "Trainable params: 54,114\n",
            "Non-trainable params: 0\n",
            "_________________________________________________________________\n"
          ]
        }
      ]
    },
    {
      "cell_type": "code",
      "source": [
        "model.fit(X_train,y_train,validation_data=(X_test,ytest),epochs=30,batch_size=64,verbose=1)\n",
        "model.save('VWAP_Subset_Model.h5')"
      ],
      "metadata": {
        "colab": {
          "base_uri": "https://localhost:8080/"
        },
        "id": "eQuILdosIRo8",
        "outputId": "e59fdf69-c874-4165-f756-9ebef259399a"
      },
      "execution_count": null,
      "outputs": [
        {
          "output_type": "stream",
          "name": "stdout",
          "text": [
            "Epoch 1/30\n",
            "579/579 [==============================] - 50s 86ms/step - loss: 0.0013 - val_loss: 0.0403\n",
            "Epoch 2/30\n",
            "579/579 [==============================] - 48s 83ms/step - loss: 1.7591e-04 - val_loss: 0.0324\n",
            "Epoch 3/30\n",
            "579/579 [==============================] - 48s 83ms/step - loss: 1.4106e-04 - val_loss: 0.0284\n",
            "Epoch 4/30\n",
            "579/579 [==============================] - 48s 82ms/step - loss: 1.3020e-04 - val_loss: 0.0239\n",
            "Epoch 5/30\n",
            "579/579 [==============================] - 48s 83ms/step - loss: 1.2185e-04 - val_loss: 0.0225\n",
            "Epoch 6/30\n",
            "579/579 [==============================] - 48s 83ms/step - loss: 1.1750e-04 - val_loss: 0.0198\n",
            "Epoch 7/30\n",
            "579/579 [==============================] - 48s 83ms/step - loss: 1.1775e-04 - val_loss: 0.0188\n",
            "Epoch 8/30\n",
            "579/579 [==============================] - 48s 83ms/step - loss: 1.1307e-04 - val_loss: 0.0175\n",
            "Epoch 9/30\n",
            "579/579 [==============================] - 48s 83ms/step - loss: 1.0776e-04 - val_loss: 0.0182\n",
            "Epoch 10/30\n",
            "579/579 [==============================] - 48s 83ms/step - loss: 1.0681e-04 - val_loss: 0.0168\n",
            "Epoch 11/30\n",
            "579/579 [==============================] - 48s 83ms/step - loss: 1.0454e-04 - val_loss: 0.0164\n",
            "Epoch 12/30\n",
            "579/579 [==============================] - 48s 83ms/step - loss: 1.0185e-04 - val_loss: 0.0167\n",
            "Epoch 13/30\n",
            "579/579 [==============================] - 48s 83ms/step - loss: 9.9093e-05 - val_loss: 0.0161\n",
            "Epoch 14/30\n",
            "579/579 [==============================] - 48s 83ms/step - loss: 9.9472e-05 - val_loss: 0.0160\n",
            "Epoch 15/30\n",
            "579/579 [==============================] - 48s 83ms/step - loss: 9.6027e-05 - val_loss: 0.0170\n",
            "Epoch 16/30\n",
            "579/579 [==============================] - 48s 83ms/step - loss: 9.5732e-05 - val_loss: 0.0176\n",
            "Epoch 17/30\n",
            "579/579 [==============================] - 48s 83ms/step - loss: 9.4323e-05 - val_loss: 0.0163\n",
            "Epoch 18/30\n",
            "579/579 [==============================] - 48s 83ms/step - loss: 9.2828e-05 - val_loss: 0.0185\n",
            "Epoch 19/30\n",
            "579/579 [==============================] - 48s 83ms/step - loss: 9.3482e-05 - val_loss: 0.0194\n",
            "Epoch 20/30\n",
            "579/579 [==============================] - 48s 83ms/step - loss: 9.1009e-05 - val_loss: 0.0178\n",
            "Epoch 21/30\n",
            "579/579 [==============================] - 48s 83ms/step - loss: 8.9315e-05 - val_loss: 0.0191\n",
            "Epoch 22/30\n",
            "579/579 [==============================] - 48s 83ms/step - loss: 8.7552e-05 - val_loss: 0.0192\n",
            "Epoch 23/30\n",
            "579/579 [==============================] - 48s 83ms/step - loss: 8.8781e-05 - val_loss: 0.0225\n",
            "Epoch 24/30\n",
            "579/579 [==============================] - 48s 84ms/step - loss: 8.7261e-05 - val_loss: 0.0202\n",
            "Epoch 25/30\n",
            "579/579 [==============================] - 48s 83ms/step - loss: 8.7463e-05 - val_loss: 0.0216\n",
            "Epoch 26/30\n",
            "579/579 [==============================] - 48s 83ms/step - loss: 8.4652e-05 - val_loss: 0.0223\n",
            "Epoch 27/30\n",
            "579/579 [==============================] - 48s 83ms/step - loss: 8.3856e-05 - val_loss: 0.0221\n",
            "Epoch 28/30\n",
            "579/579 [==============================] - 48s 83ms/step - loss: 8.3252e-05 - val_loss: 0.0251\n",
            "Epoch 29/30\n",
            "579/579 [==============================] - 49s 84ms/step - loss: 8.3959e-05 - val_loss: 0.0227\n",
            "Epoch 30/30\n",
            "579/579 [==============================] - 48s 83ms/step - loss: 8.1582e-05 - val_loss: 0.0227\n"
          ]
        }
      ]
    },
    {
      "cell_type": "code",
      "source": [
        "import tensorflow as tf\n",
        "VWAP_Subset_Model = tf.keras.models.load_model(\"VWAP_Subset_Model.h5\")"
      ],
      "metadata": {
        "id": "aADcFrgym3Km"
      },
      "execution_count": null,
      "outputs": []
    },
    {
      "cell_type": "code",
      "source": [
        "train_predict_Normalized=VWAP_Subset_Model.predict(X_train)\n",
        "test_predict_Normalized=VWAP_Subset_Model.predict(X_test)"
      ],
      "metadata": {
        "id": "IM0MWGI_mgO2"
      },
      "execution_count": null,
      "outputs": []
    },
    {
      "cell_type": "code",
      "source": [
        "train_predict=scaler.inverse_transform(train_predict_Normalized)\n",
        "test_predict=scaler.inverse_transform(test_predict_Normalized)"
      ],
      "metadata": {
        "id": "wpv5KNv3nmPu"
      },
      "execution_count": null,
      "outputs": []
    },
    {
      "cell_type": "code",
      "source": [
        "from matplotlib import pyplot as plt\n",
        "plt.plot(test_predict_Normalized[:,1],label='model prediction') #bitcoin normalized model prediciton\n",
        "plt.plot(ytest[:,1],label = 'actual VWAP')#bitcoin normalized testset actual data\n",
        "plt.legend()\n",
        "plt.title('Bitcoin 15 Minute Advanced VWAP for Test Set')\n",
        "plt.show()"
      ],
      "metadata": {
        "colab": {
          "base_uri": "https://localhost:8080/",
          "height": 281
        },
        "id": "BmQCOz9JpAW1",
        "outputId": "6ec1ce61-f20e-4319-ec05-a5015643cfbc"
      },
      "execution_count": null,
      "outputs": [
        {
          "output_type": "display_data",
          "data": {
            "image/png": "[encoded data removed]",
            "text/plain": [
              "<Figure size 432x288 with 1 Axes>"
            ]
          },
          "metadata": {
            "needs_background": "light"
          }
        }
      ]
    }
  ]
}